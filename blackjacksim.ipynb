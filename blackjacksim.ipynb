{
 "cells": [
  {
   "cell_type": "code",
   "execution_count": 1,
   "metadata": {},
   "outputs": [],
   "source": [
    "#Rules\n",
    "#Dealer stands on 17\n",
    "#1/1 return if normal win\n",
    "#3/2 return if blackjack\n",
    "#0/1 return if tie\n",
    "#1/2 return if surrender early"
   ]
  },
  {
   "cell_type": "code",
   "execution_count": 84,
   "metadata": {},
   "outputs": [],
   "source": [
    "from collections import Counter\n",
    "import decks\n",
    "values={'A':1, '2':2, '3':3, '4':4, '5':5, '6':6, '7':7, '8':8, '9':9, '10':10, 'J':10, 'Q':10, 'K':10}"
   ]
  },
  {
   "cell_type": "code",
   "execution_count": 106,
   "metadata": {},
   "outputs": [],
   "source": [
    "def playStandardHand(firstNum, secondNum, dealerFirstNum):\n",
    "\n",
    "    remainingCards=decks.blackjackDeck()\n",
    "    remainingCards.remove(firstNum)\n",
    "    remainingCards.remove(secondNum)\n",
    "    remainingCards.remove(dealerFirstNum)\n",
    "\n",
    "    remainingValues=[]\n",
    "    for k in range(len(remainingCards)):\n",
    "        remainingValues.append(values[remainingCards[k]])\n",
    "\n",
    "    currentScore=values[firstNum]+values[secondNum]\n",
    "\n",
    "    numOfScores=[]\n",
    "    for k in range(len(remainingCards)):\n",
    "        numOfScores.append(values[remainingCards[k]]+currentScore)\n",
    "    \n",
    "    tallyOfScores=Counter(numOfScores)\n",
    "    chanceOfScores={x: tallyOfScores[x]/len(numOfScores) for x in tallyOfScores}\n",
    "\n",
    "    print(chanceOfScores)"
   ]
  },
  {
   "cell_type": "code",
   "execution_count": 107,
   "metadata": {},
   "outputs": [],
   "source": [
    "firstNum = '5'#input(\"What number is your first card?\")\n",
    "secondNum = '6'#input(\"What number is your second card?\")\n",
    "dealerFirstNum = '8'#input(\"What number is the dealer's first card?\")"
   ]
  },
  {
   "cell_type": "code",
   "execution_count": 108,
   "metadata": {},
   "outputs": [],
   "source": [
    "if firstNum == secondNum:\n",
    "    splitPossible=True\n",
    "else:\n",
    "    splitPossible=False"
   ]
  },
  {
   "cell_type": "code",
   "execution_count": 109,
   "metadata": {},
   "outputs": [
    {
     "name": "stdout",
     "output_type": "stream",
     "text": [
      "{12: 0.08163265306122448, 13: 0.08163265306122448, 14: 0.08163265306122448, 15: 0.08163265306122448, 18: 0.08163265306122448, 20: 0.08163265306122448, 21: 0.32653061224489793, 16: 0.061224489795918366, 17: 0.061224489795918366, 19: 0.061224489795918366}\n"
     ]
    }
   ],
   "source": [
    "if splitPossible == False:\n",
    "    playStandardHand(firstNum,secondNum,dealerFirstNum)"
   ]
  },
  {
   "cell_type": "code",
   "execution_count": null,
   "metadata": {},
   "outputs": [],
   "source": []
  }
 ],
 "metadata": {
  "kernelspec": {
   "display_name": "Python 3",
   "language": "python",
   "name": "python3"
  },
  "language_info": {
   "codemirror_mode": {
    "name": "ipython",
    "version": 3
   },
   "file_extension": ".py",
   "mimetype": "text/x-python",
   "name": "python",
   "nbconvert_exporter": "python",
   "pygments_lexer": "ipython3",
   "version": "3.11.4"
  }
 },
 "nbformat": 4,
 "nbformat_minor": 2
}
